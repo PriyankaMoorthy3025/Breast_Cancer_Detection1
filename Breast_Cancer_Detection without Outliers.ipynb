{
 "cells": [
  {
   "cell_type": "markdown",
   "id": "b629d414-abc8-430e-b459-10889c07c01a",
   "metadata": {},
   "source": [
    "**Importing necessary libraies**"
   ]
  },
  {
   "cell_type": "code",
   "execution_count": 81,
   "id": "0cb5aaad-506c-4560-8402-a4d9154ec81f",
   "metadata": {},
   "outputs": [],
   "source": [
    "# Necessary Imports\n",
    "import pandas as pd\n",
    "import numpy as np\n",
    "import matplotlib.pyplot as plt\n",
    "import seaborn as sns\n",
    "from sklearn.model_selection import train_test_split\n",
    "from sklearn.preprocessing import StandardScaler, LabelEncoder\n",
    "from sklearn.ensemble import AdaBoostClassifier\n",
    "from sklearn.metrics import accuracy_score, precision_score, recall_score, f1_score, confusion_matrix"
   ]
  },
  {
   "cell_type": "markdown",
   "id": "00b52ab6-e712-4064-aafc-992a2c69cd55",
   "metadata": {},
   "source": [
    "**Loading the dataset**"
   ]
  },
  {
   "cell_type": "code",
   "execution_count": 84,
   "id": "1936356c-a9c5-4a4d-a6aa-98dee3a6dbdc",
   "metadata": {},
   "outputs": [],
   "source": [
    "url = \"https://archive.ics.uci.edu/ml/machine-learning-databases/breast-cancer-wisconsin/wdbc.data\"\n",
    "columns = [\"ID\", \"Diagnosis\"] + [f\"feature_{i}\" for i in range(1, 31)]\n",
    "data = pd.read_csv(url, header=None, names=columns)"
   ]
  },
  {
   "cell_type": "markdown",
   "id": "1631b000-1a9d-4295-a141-b3a8ba1ca115",
   "metadata": {},
   "source": [
    "**Dropping unecessary columns**"
   ]
  },
  {
   "cell_type": "code",
   "execution_count": 86,
   "id": "6500efbf-c0ea-4347-8af0-a606aa11ac19",
   "metadata": {},
   "outputs": [],
   "source": [
    "data = data.drop(\"ID\", axis=1)"
   ]
  },
  {
   "cell_type": "markdown",
   "id": "e04a88c7-0336-4592-8740-56d542c3909b",
   "metadata": {},
   "source": [
    "**Encodes the \"Diagnosis\" column into numerical labels**"
   ]
  },
  {
   "cell_type": "code",
   "execution_count": 88,
   "id": "98e59362-6276-4c36-a1af-1d57c20aa039",
   "metadata": {},
   "outputs": [],
   "source": [
    "label_encoder = LabelEncoder()\n",
    "data[\"Diagnosis\"] = label_encoder.fit_transform(data[\"Diagnosis\"])"
   ]
  },
  {
   "cell_type": "markdown",
   "id": "96dbe844-1f2a-490f-819d-5d32cd010233",
   "metadata": {},
   "source": [
    "**Feature Scaling Using StandardScaler**"
   ]
  },
  {
   "cell_type": "code",
   "execution_count": 90,
   "id": "dc3b1c64-a20c-429f-9ecd-d8c47245d218",
   "metadata": {},
   "outputs": [],
   "source": [
    "scaler = StandardScaler()\n",
    "scaled_features = scaler.fit_transform(data.drop(\"Diagnosis\", axis=1))\n",
    "data_scaled = pd.DataFrame(scaled_features, columns=numerical_columns)\n",
    "data_scaled[\"Diagnosis\"] = data[\"Diagnosis\"]\n"
   ]
  },
  {
   "cell_type": "markdown",
   "id": "c8294364-dd74-4b92-85cd-d55654d8ad3f",
   "metadata": {},
   "source": [
    "**Outlier Detection for Individual Features using Z-scores (Z > 3) with counts and percentages calculated for each feature.**"
   ]
  },
  {
   "cell_type": "code",
   "execution_count": 92,
   "id": "b0c05b62-5fa1-448d-9f78-1f1fa6f238a5",
   "metadata": {},
   "outputs": [
    {
     "name": "stdout",
     "output_type": "stream",
     "text": [
      "Feature: feature_1\n",
      "Outlier Count: 5\n",
      "Outlier Percentage: 0.88%\n",
      "\n",
      "Feature: feature_2\n",
      "Outlier Count: 4\n",
      "Outlier Percentage: 0.70%\n",
      "\n",
      "Feature: feature_3\n",
      "Outlier Count: 7\n",
      "Outlier Percentage: 1.23%\n",
      "\n",
      "Feature: feature_4\n",
      "Outlier Count: 8\n",
      "Outlier Percentage: 1.41%\n",
      "\n",
      "Feature: feature_5\n",
      "Outlier Count: 4\n",
      "Outlier Percentage: 0.70%\n",
      "\n",
      "Feature: feature_6\n",
      "Outlier Count: 9\n",
      "Outlier Percentage: 1.58%\n",
      "\n",
      "Feature: feature_7\n",
      "Outlier Count: 9\n",
      "Outlier Percentage: 1.58%\n",
      "\n",
      "Feature: feature_8\n",
      "Outlier Count: 6\n",
      "Outlier Percentage: 1.05%\n",
      "\n",
      "Feature: feature_9\n",
      "Outlier Count: 5\n",
      "Outlier Percentage: 0.88%\n",
      "\n",
      "Feature: feature_10\n",
      "Outlier Count: 7\n",
      "Outlier Percentage: 1.23%\n",
      "\n",
      "Feature: feature_11\n",
      "Outlier Count: 7\n",
      "Outlier Percentage: 1.23%\n",
      "\n",
      "Feature: feature_12\n",
      "Outlier Count: 9\n",
      "Outlier Percentage: 1.58%\n",
      "\n",
      "Feature: feature_13\n",
      "Outlier Count: 8\n",
      "Outlier Percentage: 1.41%\n",
      "\n",
      "Feature: feature_14\n",
      "Outlier Count: 6\n",
      "Outlier Percentage: 1.05%\n",
      "\n",
      "Feature: feature_15\n",
      "Outlier Count: 7\n",
      "Outlier Percentage: 1.23%\n",
      "\n",
      "Feature: feature_16\n",
      "Outlier Count: 12\n",
      "Outlier Percentage: 2.11%\n",
      "\n",
      "Feature: feature_17\n",
      "Outlier Count: 6\n",
      "Outlier Percentage: 1.05%\n",
      "\n",
      "Feature: feature_18\n",
      "Outlier Count: 6\n",
      "Outlier Percentage: 1.05%\n",
      "\n",
      "Feature: feature_19\n",
      "Outlier Count: 11\n",
      "Outlier Percentage: 1.93%\n",
      "\n",
      "Feature: feature_20\n",
      "Outlier Count: 10\n",
      "Outlier Percentage: 1.76%\n",
      "\n",
      "Feature: feature_21\n",
      "Outlier Count: 6\n",
      "Outlier Percentage: 1.05%\n",
      "\n",
      "Feature: feature_22\n",
      "Outlier Count: 4\n",
      "Outlier Percentage: 0.70%\n",
      "\n",
      "Feature: feature_23\n",
      "Outlier Count: 6\n",
      "Outlier Percentage: 1.05%\n",
      "\n",
      "Feature: feature_24\n",
      "Outlier Count: 10\n",
      "Outlier Percentage: 1.76%\n",
      "\n",
      "Feature: feature_25\n",
      "Outlier Count: 3\n",
      "Outlier Percentage: 0.53%\n",
      "\n",
      "Feature: feature_26\n",
      "Outlier Count: 10\n",
      "Outlier Percentage: 1.76%\n",
      "\n",
      "Feature: feature_27\n",
      "Outlier Count: 7\n",
      "Outlier Percentage: 1.23%\n",
      "\n",
      "Feature: feature_28\n",
      "Outlier Count: 0\n",
      "Outlier Percentage: 0.00%\n",
      "\n",
      "Feature: feature_29\n",
      "Outlier Count: 9\n",
      "Outlier Percentage: 1.58%\n",
      "\n",
      "Feature: feature_30\n",
      "Outlier Count: 9\n",
      "Outlier Percentage: 1.58%\n",
      "\n",
      "Outlier Counts by Feature: {'feature_1': 5, 'feature_2': 4, 'feature_3': 7, 'feature_4': 8, 'feature_5': 4, 'feature_6': 9, 'feature_7': 9, 'feature_8': 6, 'feature_9': 5, 'feature_10': 7, 'feature_11': 7, 'feature_12': 9, 'feature_13': 8, 'feature_14': 6, 'feature_15': 7, 'feature_16': 12, 'feature_17': 6, 'feature_18': 6, 'feature_19': 11, 'feature_20': 10, 'feature_21': 6, 'feature_22': 4, 'feature_23': 6, 'feature_24': 10, 'feature_25': 3, 'feature_26': 10, 'feature_27': 7, 'feature_28': 0, 'feature_29': 9, 'feature_30': 9}\n"
     ]
    }
   ],
   "source": [
    "# Outlier Detection for Individual Features\n",
    "from scipy.stats import zscore\n",
    "\n",
    "# Calculate Z-scores directly on the DataFrame's numerical columns\n",
    "z_scores = data_scaled[numerical_columns].apply(zscore)\n",
    "\n",
    "# Initialize dictionaries to store outlier count and percentage for each feature\n",
    "outlier_counts = {}\n",
    "outlier_percentages = {}\n",
    "\n",
    "# Loop through each feature to calculate outliers individually\n",
    "for feature in numerical_columns:\n",
    "    feature_outliers = np.sum(z_scores[feature] > 3)  # Count of outliers in this feature\n",
    "    outlier_percentage = (feature_outliers / data_scaled.shape[0]) * 100  # Percentage of outliers\n",
    "\n",
    "    # Store in dictionaries\n",
    "    outlier_counts[feature] = feature_outliers\n",
    "    outlier_percentages[feature] = outlier_percentage\n",
    "\n",
    "    print(f\"Feature: {feature}\")\n",
    "    print(f\"Outlier Count: {feature_outliers}\")\n",
    "    print(f\"Outlier Percentage: {outlier_percentage:.2f}%\\n\")\n",
    "\n",
    "# Print summaries for all features\n",
    "print(\"Outlier Counts by Feature:\", outlier_counts)"
   ]
  },
  {
   "cell_type": "code",
   "execution_count": 93,
   "id": "08ba3aae-f896-4ae7-afd2-293e9fb42a56",
   "metadata": {},
   "outputs": [
    {
     "name": "stderr",
     "output_type": "stream",
     "text": [
      "C:\\Users\\91979\\AppData\\Local\\Temp\\ipykernel_1456\\793605801.py:3: FutureWarning: \n",
      "\n",
      "Passing `palette` without assigning `hue` is deprecated and will be removed in v0.14.0. Assign the `x` variable to `hue` and set `legend=False` for the same effect.\n",
      "\n",
      "  sns.barplot(x=list(outlier_counts.keys()), y=list(outlier_counts.values()), palette='viridis')  # Ensure correct palette usage\n"
     ]
    },
    {
     "data": {
      "image/png": "[encoded data removed]",
      "text/plain": [
       "<Figure size 1100x500 with 1 Axes>"
      ]
     },
     "metadata": {},
     "output_type": "display_data"
    }
   ],
   "source": [
    "# Plotting the number of outliers per feature using a bar plot\n",
    "plt.figure(figsize=(11, 5))\n",
    "sns.barplot(x=list(outlier_counts.keys()), y=list(outlier_counts.values()), palette='viridis')  # Ensure correct palette usage\n",
    "plt.xticks(rotation=90)\n",
    "plt.title(\"Number of Outliers per Feature\")\n",
    "plt.xlabel(\"Feature\")\n",
    "plt.ylabel(\"Number of Outliers\")\n",
    "plt.show()\n"
   ]
  },
  {
   "cell_type": "markdown",
   "id": "2effb541-6950-4ada-b715-d66ea0310c75",
   "metadata": {},
   "source": [
    "**Removal of outliers from the dataset.**"
   ]
  },
  {
   "cell_type": "code",
   "execution_count": 103,
   "id": "0c060550-cf24-4fa0-bf80-b3128597c263",
   "metadata": {},
   "outputs": [],
   "source": [
    "z_scores = np.abs(zscore(data_scaled[numerical_columns]))\n",
    "outliers = (z_scores > 3).any(axis=1)\n",
    "data_no_outliers = data_scaled[~outliers]\n"
   ]
  },
  {
   "cell_type": "markdown",
   "id": "fe11ef2c-981e-4478-856a-ddccae433197",
   "metadata": {},
   "source": [
    "**Splitting and Training the model**"
   ]
  },
  {
   "cell_type": "code",
   "execution_count": 106,
   "id": "a10b9a14-c01c-4352-ac5a-9a4c933b69e8",
   "metadata": {},
   "outputs": [
    {
     "name": "stderr",
     "output_type": "stream",
     "text": [
      "C:\\Users\\91979\\anaconda3\\Lib\\site-packages\\sklearn\\ensemble\\_weight_boosting.py:519: FutureWarning: The SAMME.R algorithm (the default) is deprecated and will be removed in 1.6. Use the SAMME algorithm to circumvent this warning.\n",
      "  warnings.warn(\n"
     ]
    }
   ],
   "source": [
    "# Separating features and target variable\n",
    "X = data_no_outliers.drop(\"Diagnosis\", axis=1)\n",
    "y = data_no_outliers[\"Diagnosis\"]\n",
    "\n",
    "# Split the data into training and testing sets\n",
    "X_train, X_test, y_train, y_test = train_test_split(X, y, test_size=0.2, random_state=42)\n",
    "\n",
    "# Train AdaBoost Classifier\n",
    "ada_model = AdaBoostClassifier(n_estimators=50, learning_rate=1.0, random_state=42)\n",
    "ada_model.fit(X_train, y_train)\n",
    "\n",
    "# Predict and Evaluate Model Performance\n",
    "y_pred = ada_model.predict(X_test)\n",
    "\n",
    "# Calculate evaluation metrics\n",
    "accuracy = accuracy_score(y_test, y_pred)\n",
    "precision = precision_score(y_test, y_pred)\n",
    "recall = recall_score(y_test, y_pred)\n",
    "f1 = f1_score(y_test, y_pred)\n",
    "conf_matrix = confusion_matrix(y_test, y_pred)\n"
   ]
  },
  {
   "cell_type": "markdown",
   "id": "34a77a06-b484-44d6-8716-1d31ef9c93c0",
   "metadata": {},
   "source": [
    "**Performance Metrics**"
   ]
  },
  {
   "cell_type": "code",
   "execution_count": 131,
   "id": "87f9c309-cc4a-4d88-bc5d-6fc7a1c00b14",
   "metadata": {},
   "outputs": [
    {
     "name": "stdout",
     "output_type": "stream",
     "text": [
      "\n",
      "Model Performance Metrics (After Removing Outliers):\n",
      "Metric         Score     \n",
      "-------------------------\n",
      "Accuracy       1.00\n",
      "Precision      1.00\n",
      "Recall         1.00\n",
      "F1 Score       1.00\n",
      "\n",
      "Confusion Matrix:\n",
      " [[61  0]\n",
      " [ 0 38]]\n"
     ]
    }
   ],
   "source": [
    "print(\"\\nModel Performance Metrics (After Removing Outliers):\")\n",
    "print(f\"{'Metric':<15}{'Score':<10}\")\n",
    "print(\"-\" * 25)\n",
    "print(f\"{'Accuracy':<15}{accuracy:.2f}\")\n",
    "print(f\"{'Precision':<15}{precision:.2f}\")\n",
    "print(f\"{'Recall':<15}{recall:.2f}\")\n",
    "print(f\"{'F1 Score':<15}{f1:.2f}\")\n",
    "print(\"\\nConfusion Matrix:\\n\", conf_matrix)"
   ]
  },
  {
   "cell_type": "markdown",
   "id": "70c9adce-8ebe-40bc-a7e1-87086aa0f20f",
   "metadata": {},
   "source": [
    "**Visualization of Model Performance Metrics and Confusion Matrix (After Outlier Removal)**"
   ]
  },
  {
   "cell_type": "code",
   "execution_count": 144,
   "id": "e6e7109b-8abb-4c0a-bee8-f2bf76c816a5",
   "metadata": {},
   "outputs": [
    {
     "data": {
      "image/png": "[encoded data removed]",
      "text/plain": [
       "<Figure size 500x400 with 1 Axes>"
      ]
     },
     "metadata": {},
     "output_type": "display_data"
    },
    {
     "data": {
      "image/png": "[encoded data removed]",
      "text/plain": [
       "<Figure size 600x500 with 1 Axes>"
      ]
     },
     "metadata": {},
     "output_type": "display_data"
    }
   ],
   "source": [
    "import matplotlib.pyplot as plt\n",
    "import seaborn as sns\n",
    "import numpy as np\n",
    "from sklearn.metrics import confusion_matrix\n",
    "\n",
    "# Example values from your output\n",
    "accuracy = 1.00\n",
    "precision = 1.00\n",
    "recall = 1.00\n",
    "f1 = 1.00\n",
    "\n",
    "# Confusion matrix\n",
    "conf_matrix = np.array([[61, 0], [0, 38]])\n",
    "\n",
    "# Plot Confusion Matrix Heatmap\n",
    "plt.figure(figsize=(5, 4))\n",
    "sns.heatmap(conf_matrix, annot=True, fmt=\"d\", cmap=\"Blues\", cbar=False, \n",
    "            xticklabels=[\"Predicted Negative\", \"Predicted Positive\"], \n",
    "            yticklabels=[\"Actual Negative\", \"Actual Positive\"])\n",
    "plt.title(\"Confusion Matrix\")\n",
    "plt.xlabel(\"Predicted Labels\")\n",
    "plt.ylabel(\"Actual Labels\")\n",
    "plt.show()\n",
    "\n",
    "# Performance metrics bar chart\n",
    "metrics = ['Precision', 'Recall']\n",
    "scores = [precision, recall]\n",
    "\n",
    "# Create the bar chart\n",
    "plt.figure(figsize=(6, 5))\n",
    "bars = plt.bar(metrics, scores, color=['darkblue', 'lightgreen'])\n",
    "plt.ylim(0, 1.1)  # To make sure the bars fit well within the range\n",
    "plt.title('Model Performance Metrics')\n",
    "plt.ylabel('Score')\n",
    "\n",
    "# Add percentage values above each bar\n",
    "for bar in bars:\n",
    "    height = bar.get_height()\n",
    "    plt.text(bar.get_x() + bar.get_width() / 2, height + 0.02, f'{height*100:.2f}%', \n",
    "             ha='center', va='bottom', fontsize=12, color='black')\n",
    "\n",
    "plt.show()\n",
    "\n",
    "\n"
   ]
  },
  {
   "cell_type": "markdown",
   "id": "41b05ce1-c126-48a7-af28-ffec09205242",
   "metadata": {},
   "source": [
    "**Print Classification Report**"
   ]
  },
  {
   "cell_type": "code",
   "execution_count": 138,
   "id": "7b6731f3-5953-4340-a53b-e83df492d4e1",
   "metadata": {},
   "outputs": [
    {
     "name": "stdout",
     "output_type": "stream",
     "text": [
      "Classification Report:\n",
      "               precision    recall  f1-score   support\n",
      "\n",
      "      Benign       1.00      1.00      1.00        61\n",
      "   Malignant       1.00      1.00      1.00        38\n",
      "\n",
      "    accuracy                           1.00        99\n",
      "   macro avg       1.00      1.00      1.00        99\n",
      "weighted avg       1.00      1.00      1.00        99\n",
      "\n"
     ]
    }
   ],
   "source": [
    "print(\"Classification Report:\\n\", classification_report(y_test, y_pred, target_names=['Benign', 'Malignant']))"
   ]
  }
 ],
 "metadata": {
  "kernelspec": {
   "display_name": "Python 3 (ipykernel)",
   "language": "python",
   "name": "python3"
  },
  "language_info": {
   "codemirror_mode": {
    "name": "ipython",
    "version": 3
   },
   "file_extension": ".py",
   "mimetype": "text/x-python",
   "name": "python",
   "nbconvert_exporter": "python",
   "pygments_lexer": "ipython3",
   "version": "3.12.4"
  }
 },
 "nbformat": 4,
 "nbformat_minor": 5
}
